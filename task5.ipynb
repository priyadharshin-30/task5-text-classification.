{
 "cells": [
  {
   "cell_type": "code",
   "execution_count": 24,
   "id": "32554302-9926-4365-8b05-f3e0913cb75b",
   "metadata": {},
   "outputs": [
    {
     "name": "stdout",
     "output_type": "stream",
     "text": [
      "Requirement already satisfied: pandas in e:\\new folder\\lib\\site-packages (2.2.3)Note: you may need to restart the kernel to use updated packages.\n",
      "\n",
      "Requirement already satisfied: numpy in e:\\new folder\\lib\\site-packages (2.1.3)\n",
      "Requirement already satisfied: scikit-learn in e:\\new folder\\lib\\site-packages (1.6.1)\n",
      "Requirement already satisfied: matplotlib in e:\\new folder\\lib\\site-packages (3.10.0)\n",
      "Requirement already satisfied: seaborn in e:\\new folder\\lib\\site-packages (0.13.2)\n",
      "Requirement already satisfied: nltk in e:\\new folder\\lib\\site-packages (3.9.1)\n",
      "Requirement already satisfied: python-dateutil>=2.8.2 in e:\\new folder\\lib\\site-packages (from pandas) (2.9.0.post0)\n",
      "Requirement already satisfied: pytz>=2020.1 in e:\\new folder\\lib\\site-packages (from pandas) (2024.1)\n",
      "Requirement already satisfied: tzdata>=2022.7 in e:\\new folder\\lib\\site-packages (from pandas) (2025.2)\n",
      "Requirement already satisfied: scipy>=1.6.0 in e:\\new folder\\lib\\site-packages (from scikit-learn) (1.15.3)\n",
      "Requirement already satisfied: joblib>=1.2.0 in e:\\new folder\\lib\\site-packages (from scikit-learn) (1.4.2)\n",
      "Requirement already satisfied: threadpoolctl>=3.1.0 in e:\\new folder\\lib\\site-packages (from scikit-learn) (3.5.0)\n",
      "Requirement already satisfied: contourpy>=1.0.1 in e:\\new folder\\lib\\site-packages (from matplotlib) (1.3.1)\n",
      "Requirement already satisfied: cycler>=0.10 in e:\\new folder\\lib\\site-packages (from matplotlib) (0.11.0)\n",
      "Requirement already satisfied: fonttools>=4.22.0 in e:\\new folder\\lib\\site-packages (from matplotlib) (4.55.3)\n",
      "Requirement already satisfied: kiwisolver>=1.3.1 in e:\\new folder\\lib\\site-packages (from matplotlib) (1.4.8)\n",
      "Requirement already satisfied: packaging>=20.0 in e:\\new folder\\lib\\site-packages (from matplotlib) (24.2)\n",
      "Requirement already satisfied: pillow>=8 in e:\\new folder\\lib\\site-packages (from matplotlib) (11.1.0)\n",
      "Requirement already satisfied: pyparsing>=2.3.1 in e:\\new folder\\lib\\site-packages (from matplotlib) (3.2.0)\n",
      "Requirement already satisfied: click in e:\\new folder\\lib\\site-packages (from nltk) (8.1.8)\n",
      "Requirement already satisfied: regex>=2021.8.3 in e:\\new folder\\lib\\site-packages (from nltk) (2024.11.6)\n",
      "Requirement already satisfied: tqdm in e:\\new folder\\lib\\site-packages (from nltk) (4.67.1)\n",
      "Requirement already satisfied: six>=1.5 in e:\\new folder\\lib\\site-packages (from python-dateutil>=2.8.2->pandas) (1.17.0)\n",
      "Requirement already satisfied: colorama in e:\\new folder\\lib\\site-packages (from click->nltk) (0.4.6)\n"
     ]
    }
   ],
   "source": [
    "pip install pandas numpy scikit-learn matplotlib seaborn nltk"
   ]
  },
  {
   "cell_type": "code",
   "execution_count": 25,
   "id": "687c6bad-3d27-4136-a722-8e41b228d77c",
   "metadata": {},
   "outputs": [],
   "source": [
    "import pandas as pd\n",
    "import numpy as np\n",
    "import re\n",
    "import nltk\n",
    "\n",
    "import matplotlib.pyplot as plt\n",
    "import seaborn as sns\n",
    "\n",
    "from nltk.corpus import stopwords\n",
    "from sklearn.model_selection import train_test_split\n",
    "from sklearn.feature_extraction.text import TfidfVectorizer\n",
    "from sklearn.linear_model import LogisticRegression\n",
    "from sklearn.metrics import classification_report, accuracy_score, confusion_matrix"
   ]
  },
  {
   "cell_type": "code",
   "execution_count": 26,
   "id": "dc75f5b7-3f9b-4b1b-849e-65e9f02753d8",
   "metadata": {},
   "outputs": [
    {
     "name": "stderr",
     "output_type": "stream",
     "text": [
      "[nltk_data] Downloading package stopwords to\n",
      "[nltk_data]     C:\\Users\\Laptop\\AppData\\Roaming\\nltk_data...\n",
      "[nltk_data]   Package stopwords is already up-to-date!\n"
     ]
    }
   ],
   "source": [
    "nltk.download('stopwords')\n",
    "stop = set(stopwords.words('english'))"
   ]
  },
  {
   "cell_type": "code",
   "execution_count": 27,
   "id": "134bf08d-23c8-43cc-9fc1-e43675a0d593",
   "metadata": {},
   "outputs": [],
   "source": [
    "df = pd.read_csv(\"complaints.csv\")"
   ]
  },
  {
   "cell_type": "code",
   "execution_count": 28,
   "id": "fa03e3ed-bf3e-4287-8d5a-42236636c524",
   "metadata": {},
   "outputs": [
    {
     "name": "stdout",
     "output_type": "stream",
     "text": [
      "Dataset loaded successfully!\n",
      "Shape: (3410356, 2)\n"
     ]
    },
    {
     "data": {
      "text/html": [
       "<div>\n",
       "<style scoped>\n",
       "    .dataframe tbody tr th:only-of-type {\n",
       "        vertical-align: middle;\n",
       "    }\n",
       "\n",
       "    .dataframe tbody tr th {\n",
       "        vertical-align: top;\n",
       "    }\n",
       "\n",
       "    .dataframe thead th {\n",
       "        text-align: right;\n",
       "    }\n",
       "</style>\n",
       "<table border=\"1\" class=\"dataframe\">\n",
       "  <thead>\n",
       "    <tr style=\"text-align: right;\">\n",
       "      <th></th>\n",
       "      <th>category</th>\n",
       "      <th>text</th>\n",
       "    </tr>\n",
       "  </thead>\n",
       "  <tbody>\n",
       "    <tr>\n",
       "      <th>7</th>\n",
       "      <td>Credit reporting, credit repair services, or o...</td>\n",
       "      <td>These are not my accounts.</td>\n",
       "    </tr>\n",
       "    <tr>\n",
       "      <th>15</th>\n",
       "      <td>Credit reporting or other personal consumer re...</td>\n",
       "      <td>Kindly address this issue on my credit report....</td>\n",
       "    </tr>\n",
       "    <tr>\n",
       "      <th>21</th>\n",
       "      <td>Credit reporting or other personal consumer re...</td>\n",
       "      <td>There are XXXX collections being reported to t...</td>\n",
       "    </tr>\n",
       "    <tr>\n",
       "      <th>42</th>\n",
       "      <td>Credit reporting or other personal consumer re...</td>\n",
       "      <td>Violation of Gramm-Leach-Bliley Act ( GLBA ), ...</td>\n",
       "    </tr>\n",
       "    <tr>\n",
       "      <th>66</th>\n",
       "      <td>Credit reporting or other personal consumer re...</td>\n",
       "      <td>Good day, filing this complaint to follow up m...</td>\n",
       "    </tr>\n",
       "  </tbody>\n",
       "</table>\n",
       "</div>"
      ],
      "text/plain": [
       "                                             category  \\\n",
       "7   Credit reporting, credit repair services, or o...   \n",
       "15  Credit reporting or other personal consumer re...   \n",
       "21  Credit reporting or other personal consumer re...   \n",
       "42  Credit reporting or other personal consumer re...   \n",
       "66  Credit reporting or other personal consumer re...   \n",
       "\n",
       "                                                 text  \n",
       "7                          These are not my accounts.  \n",
       "15  Kindly address this issue on my credit report....  \n",
       "21  There are XXXX collections being reported to t...  \n",
       "42  Violation of Gramm-Leach-Bliley Act ( GLBA ), ...  \n",
       "66  Good day, filing this complaint to follow up m...  "
      ]
     },
     "execution_count": 28,
     "metadata": {},
     "output_type": "execute_result"
    }
   ],
   "source": [
    "df = df[['Product', 'Consumer complaint narrative']].dropna()\n",
    "df = df.rename(columns={'Consumer complaint narrative': 'text', 'Product': 'category'})\n",
    "print(\"Dataset loaded successfully!\")\n",
    "print(\"Shape:\", df.shape)\n",
    "df.head()"
   ]
  },
  {
   "cell_type": "code",
   "execution_count": 29,
   "id": "52dbd4a0-c70b-4f40-bd51-2b8299032d4a",
   "metadata": {},
   "outputs": [
    {
     "name": "stdout",
     "output_type": "stream",
     "text": [
      "Filtered dataset shape: (1322795, 3)\n"
     ]
    },
    {
     "name": "stderr",
     "output_type": "stream",
     "text": [
      "C:\\Users\\Laptop\\AppData\\Local\\Temp\\ipykernel_22164\\3948214380.py:8: FutureWarning: Downcasting behavior in `replace` is deprecated and will be removed in a future version. To retain the old behavior, explicitly call `result.infer_objects(copy=False)`. To opt-in to the future behavior, set `pd.set_option('future.no_silent_downcasting', True)`\n",
      "  df['label'] = df['category'].replace({\n"
     ]
    }
   ],
   "source": [
    "target_categories = [\n",
    "    \"Credit reporting, credit repair services, or other personal consumer reports\",\n",
    "    \"Debt collection\",\n",
    "    \"Consumer Loan\",\n",
    "    \"Mortgage\"\n",
    "]\n",
    "df = df[df['category'].isin(target_categories)]\n",
    "df['label'] = df['category'].replace({\n",
    "    \"Credit reporting, credit repair services, or other personal consumer reports\": 0,\n",
    "    \"Debt collection\": 1,\n",
    "    \"Consumer Loan\": 2,\n",
    "    \"Mortgage\": 3\n",
    "})\n",
    "print(\"Filtered dataset shape:\", df.shape)"
   ]
  },
  {
   "cell_type": "code",
   "execution_count": 30,
   "id": "86776e57-ed2c-47cb-9c1b-944c0fd89da4",
   "metadata": {},
   "outputs": [
    {
     "name": "stdout",
     "output_type": "stream",
     "text": [
      " Text cleaned successfully!\n"
     ]
    },
    {
     "data": {
      "text/html": [
       "<div>\n",
       "<style scoped>\n",
       "    .dataframe tbody tr th:only-of-type {\n",
       "        vertical-align: middle;\n",
       "    }\n",
       "\n",
       "    .dataframe tbody tr th {\n",
       "        vertical-align: top;\n",
       "    }\n",
       "\n",
       "    .dataframe thead th {\n",
       "        text-align: right;\n",
       "    }\n",
       "</style>\n",
       "<table border=\"1\" class=\"dataframe\">\n",
       "  <thead>\n",
       "    <tr style=\"text-align: right;\">\n",
       "      <th></th>\n",
       "      <th>text</th>\n",
       "      <th>clean_text</th>\n",
       "    </tr>\n",
       "  </thead>\n",
       "  <tbody>\n",
       "    <tr>\n",
       "      <th>7</th>\n",
       "      <td>These are not my accounts.</td>\n",
       "      <td>accounts</td>\n",
       "    </tr>\n",
       "    <tr>\n",
       "      <th>122</th>\n",
       "      <td>I wrote three requests, the unverified account...</td>\n",
       "      <td>wrote three requests unverified accounts liste...</td>\n",
       "    </tr>\n",
       "    <tr>\n",
       "      <th>174</th>\n",
       "      <td>I've found that my credit report has erroneous...</td>\n",
       "      <td>ive found credit report erroneous information ...</td>\n",
       "    </tr>\n",
       "    <tr>\n",
       "      <th>204</th>\n",
       "      <td>RE : Attentively review my formal writ compose...</td>\n",
       "      <td>attentively review formal writ composed declar...</td>\n",
       "    </tr>\n",
       "    <tr>\n",
       "      <th>216</th>\n",
       "      <td>I have filed a dispute in regards to the incor...</td>\n",
       "      <td>filed dispute regards incorrect information th...</td>\n",
       "    </tr>\n",
       "  </tbody>\n",
       "</table>\n",
       "</div>"
      ],
      "text/plain": [
       "                                                  text  \\\n",
       "7                           These are not my accounts.   \n",
       "122  I wrote three requests, the unverified account...   \n",
       "174  I've found that my credit report has erroneous...   \n",
       "204  RE : Attentively review my formal writ compose...   \n",
       "216  I have filed a dispute in regards to the incor...   \n",
       "\n",
       "                                            clean_text  \n",
       "7                                             accounts  \n",
       "122  wrote three requests unverified accounts liste...  \n",
       "174  ive found credit report erroneous information ...  \n",
       "204  attentively review formal writ composed declar...  \n",
       "216  filed dispute regards incorrect information th...  "
      ]
     },
     "execution_count": 30,
     "metadata": {},
     "output_type": "execute_result"
    }
   ],
   "source": [
    "def clean_text(text):\n",
    "    text = re.sub(r'[^a-zA-Z ]', '', text)\n",
    "    text = text.lower()\n",
    "    return ' '.join([word for word in text.split() if word not in stop])\n",
    "\n",
    "df['clean_text'] = df['text'].apply(clean_text)\n",
    "print(\" Text cleaned successfully!\")\n",
    "df[['text', 'clean_text']].head()"
   ]
  },
  {
   "cell_type": "code",
   "execution_count": 31,
   "id": "a1138774-7aa7-4234-bf0d-d7c2300ee052",
   "metadata": {},
   "outputs": [
    {
     "name": "stdout",
     "output_type": "stream",
     "text": [
      " Data split done - Training size: 1058236 Test size: 264559\n"
     ]
    }
   ],
   "source": [
    "X_train, X_test, y_train, y_test = train_test_split(\n",
    "    df['clean_text'], df['label'], test_size=0.2, random_state=42\n",
    ")\n",
    "print(\" Data split done - Training size:\", len(X_train), \"Test size:\", len(X_test))"
   ]
  },
  {
   "cell_type": "code",
   "execution_count": 32,
   "id": "208ddfa3-a281-4c97-b6c1-ed40e64cdf17",
   "metadata": {},
   "outputs": [
    {
     "name": "stdout",
     "output_type": "stream",
     "text": [
      " TF-IDF vectorization complete!\n"
     ]
    }
   ],
   "source": [
    "vectorizer = TfidfVectorizer(max_features=5000)\n",
    "X_train_vec = vectorizer.fit_transform(X_train)\n",
    "X_test_vec = vectorizer.transform(X_test)\n",
    "print(\" TF-IDF vectorization complete!\")"
   ]
  },
  {
   "cell_type": "code",
   "execution_count": 33,
   "id": "62326412-3d9c-4c93-a948-36e7d53ca043",
   "metadata": {},
   "outputs": [],
   "source": [
    "model = LogisticRegression(max_iter=1000)\n",
    "model.fit(X_train_vec, y_train)\n",
    "y_pred = model.predict(X_test_vec)"
   ]
  },
  {
   "cell_type": "code",
   "execution_count": 34,
   "id": "bfe17384-e57e-4322-a2e5-d5e152d72e98",
   "metadata": {},
   "outputs": [
    {
     "name": "stdout",
     "output_type": "stream",
     "text": [
      " Model Accuracy: 90.67 %\n",
      "\n",
      "Classification Report:\n",
      "               precision    recall  f1-score   support\n",
      "\n",
      "           0       0.92      0.94      0.93    161445\n",
      "           1       0.87      0.83      0.85     74366\n",
      "           2       0.68      0.37      0.48      1866\n",
      "           3       0.92      0.93      0.93     26882\n",
      "\n",
      "    accuracy                           0.91    264559\n",
      "   macro avg       0.85      0.77      0.80    264559\n",
      "weighted avg       0.91      0.91      0.91    264559\n",
      "\n"
     ]
    }
   ],
   "source": [
    "acc = accuracy_score(y_test, y_pred)\n",
    "print(\" Model Accuracy:\", round(acc * 100, 2), \"%\")\n",
    "print(\"\\nClassification Report:\\n\", classification_report(y_test, y_pred))"
   ]
  },
  {
   "cell_type": "code",
   "execution_count": 35,
   "id": "83c70d5d-b7b9-4d12-86f4-30e864072337",
   "metadata": {},
   "outputs": [
    {
     "data": {
      "image/png": "[encoded data removed]",
      "text/plain": [
       "<Figure size 600x400 with 2 Axes>"
      ]
     },
     "metadata": {},
     "output_type": "display_data"
    }
   ],
   "source": [
    "plt.figure(figsize=(6,4))\n",
    "sns.heatmap(confusion_matrix(y_test, y_pred), annot=True, fmt='d', cmap='Blues')\n",
    "plt.title(\"Confusion Matrix\")\n",
    "plt.xlabel(\"Predicted\")\n",
    "plt.ylabel(\"Actual\")\n",
    "plt.show()"
   ]
  },
  {
   "cell_type": "code",
   "execution_count": 36,
   "id": "8566dc50-5a52-4f6c-accd-b8575c75f79a",
   "metadata": {},
   "outputs": [
    {
     "name": "stdout",
     "output_type": "stream",
     "text": [
      "Complaint: My credit report has wrong accounts listed\n",
      "→ Predicted Category: Credit reporting\n",
      "\n",
      "Complaint: They keep calling for a loan I have already repaid\n",
      "→ Predicted Category: Debt collection\n",
      "\n",
      "Complaint: Mortgage payment was processed twice by the bank\n",
      "→ Predicted Category: Mortgage\n",
      "\n",
      "Complaint: My loan application is delayed without reason\n",
      "→ Predicted Category: Mortgage\n",
      "\n"
     ]
    }
   ],
   "source": [
    "sample_texts = [\n",
    "    \"My credit report has wrong accounts listed\",\n",
    "    \"They keep calling for a loan I have already repaid\",\n",
    "    \"Mortgage payment was processed twice by the bank\",\n",
    "    \"My loan application is delayed without reason\"\n",
    "]\n",
    "\n",
    "clean_samples = [clean_text(t) for t in sample_texts]\n",
    "sample_vec = vectorizer.transform(clean_samples)\n",
    "preds = model.predict(sample_vec)\n",
    "\n",
    "label_map = {0: \"Credit reporting\", 1: \"Debt collection\", 2: \"Consumer Loan\", 3: \"Mortgage\"}\n",
    "for text, pred in zip(sample_texts, preds):\n",
    "    print(f\"Complaint: {text}\\n→ Predicted Category: {label_map[pred]}\\n\")"
   ]
  }
 ],
 "metadata": {
  "kernelspec": {
   "display_name": "Python 3 (ipykernel)",
   "language": "python",
   "name": "python3"
  },
  "language_info": {
   "codemirror_mode": {
    "name": "ipython",
    "version": 3
   },
   "file_extension": ".py",
   "mimetype": "text/x-python",
   "name": "python",
   "nbconvert_exporter": "python",
   "pygments_lexer": "ipython3",
   "version": "3.13.5"
  }
 },
 "nbformat": 4,
 "nbformat_minor": 5
}
